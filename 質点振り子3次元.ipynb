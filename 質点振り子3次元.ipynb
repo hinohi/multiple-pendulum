{
 "cells": [
  {
   "cell_type": "code",
   "execution_count": 1,
   "metadata": {},
   "outputs": [],
   "source": [
    "import sympy as sy"
   ]
  },
  {
   "cell_type": "code",
   "execution_count": 22,
   "metadata": {},
   "outputs": [],
   "source": [
    "import re\n",
    "def clean_latex(expr):\n",
    "    s = sy.latex(expr)\n",
    "    s = re.sub(r'\\\\operatorname{θ(\\d)}{ *\\\\left \\( *t *\\\\right *\\)}', r'\\\\theta_\\1', s)\n",
    "    s = re.sub(r'\\\\operatorname{ϕ(\\d)}{ *\\\\left \\( *t *\\\\right *\\)}', r'\\\\phi_\\1', s)\n",
    "    s = re.sub(r'([_^]){(\\d+)}', r'\\1\\2', s)\n",
    "    s = re.sub(r'\\\\frac{d}{d t} *(\\\\[a-zA-Z0-9_]+)', r'\\\\dot{\\1}', s)\n",
    "    s = re.sub(r'\\\\left *\\( *([\\\\a-zA-Z0-9_{}]+) *\\\\right *\\)', r'\\1', s)\n",
    "    s = s.replace(r'\\left(m_{0} + m_{1} + m_{2}\\right)', 'M_0')\n",
    "    s = s.replace(r'\\left(m_{1} + m_{2}\\right)', 'M_1')\n",
    "    s = s.replace(r'm_{2}', 'M_2')\n",
    "    return s"
   ]
  },
  {
   "cell_type": "code",
   "execution_count": 26,
   "metadata": {},
   "outputs": [],
   "source": [
    "N = 2\n",
    "t = sy.symbols('t', real=True)\n",
    "g = sy.symbols('g', positive=True)\n",
    "l = sy.symbols(' '.join(f'l{i}' for i in range(N)), positive=True)\n",
    "m = sy.symbols(' '.join(f'm{i}' for i in range(N)), positive=True)\n",
    "θ = [theta(t) for theta in sy.symbols(' '.join(f'θ{i}' for i in range(N)), cls=sy.Function)]\n",
    "dθ = [sy.diff(theta, t) for theta in θ]\n",
    "ddθ = [sy.diff(theta, (t, 2)) for theta in θ]\n",
    "ϕ =  [phi(t) for phi in sy.symbols(' '.join(f'ϕ{i}' for i in range(N)), cls=sy.Function)]\n",
    "dϕ = [sy.diff(phi, t) for phi in ϕ]\n",
    "ddϕ = [sy.diff(phi, (t, 2)) for phi in ϕ]"
   ]
  },
  {
   "cell_type": "code",
   "execution_count": 27,
   "metadata": {},
   "outputs": [],
   "source": [
    "x = [l[0] * sy.sin(θ[0]) * sy.cos(ϕ[0])]\n",
    "y = [l[0] * sy.sin(θ[0]) * sy.sin(ϕ[0])]\n",
    "z = [-l[0] * sy.cos(θ[0])]\n",
    "for i in range(1, N):\n",
    "    x.append(x[i-1] + l[i] * sy.sin(θ[i]) * sy.cos(ϕ[i]))\n",
    "    y.append(y[i-1] + l[i] * sy.sin(θ[i]) * sy.sin(ϕ[i]))\n",
    "    z.append(z[i-1] - l[i] * sy.cos(θ[i]))"
   ]
  },
  {
   "cell_type": "code",
   "execution_count": 28,
   "metadata": {},
   "outputs": [],
   "source": [
    "v2 = [sy.diff(xi, t)**2 + sy.diff(yi, t)**2 + sy.diff(zi, t)**2 for xi, yi, zi in zip(x, y, z)]"
   ]
  },
  {
   "cell_type": "code",
   "execution_count": 6,
   "metadata": {},
   "outputs": [],
   "source": [
    "T = sum(vi2 * mi for vi2, mi in zip(v2, m)) / 2"
   ]
  },
  {
   "cell_type": "code",
   "execution_count": 7,
   "metadata": {},
   "outputs": [],
   "source": [
    "U = sum(g * zi * mi for zi, mi in zip(z, m))"
   ]
  },
  {
   "cell_type": "code",
   "execution_count": 8,
   "metadata": {},
   "outputs": [],
   "source": [
    "H = T + U\n",
    "L = T - U"
   ]
  },
  {
   "cell_type": "code",
   "execution_count": 9,
   "metadata": {},
   "outputs": [],
   "source": [
    "ddx = ddθ + ddϕ\n",
    "dx = dθ + dϕ\n",
    "x = θ + ϕ"
   ]
  },
  {
   "cell_type": "code",
   "execution_count": 10,
   "metadata": {},
   "outputs": [],
   "source": [
    "eq = []\n",
    "for i in range(N * 2):\n",
    "    eq.append(sy.diff(L, dx[i], t) - sy.diff(L, x[i]))"
   ]
  },
  {
   "cell_type": "code",
   "execution_count": 11,
   "metadata": {},
   "outputs": [],
   "source": [
    "mat1 = []\n",
    "for i in range(N * 2):\n",
    "    row = []\n",
    "    mat1.append(row)\n",
    "    for j in range(N * 2):\n",
    "        row.append(sy.diff(eq[i], ddx[j]).simplify())"
   ]
  },
  {
   "cell_type": "code",
   "execution_count": 12,
   "metadata": {},
   "outputs": [],
   "source": [
    "mat2 = []\n",
    "for i in range(N * 2):\n",
    "    row = []\n",
    "    mat2.append(row)\n",
    "    for j in range(N * 2):\n",
    "        row.append(sy.diff(eq[i], (dx[j], 2)).simplify()/2)"
   ]
  },
  {
   "cell_type": "code",
   "execution_count": 13,
   "metadata": {},
   "outputs": [],
   "source": [
    "left = sy.Matrix(eq) - sy.Matrix(mat1) * sy.Matrix(ddx) - sy.Matrix(mat2) * sy.Matrix([i * i for i in dx])"
   ]
  },
  {
   "cell_type": "code",
   "execution_count": 14,
   "metadata": {},
   "outputs": [],
   "source": [
    "mat3 = []\n",
    "for i in range(N * 2):\n",
    "    row = []\n",
    "    mat3.append(row)\n",
    "    for j in range(N):\n",
    "        row.append(sy.diff(left[i], dθ[j], dϕ[j]).simplify())"
   ]
  },
  {
   "cell_type": "code",
   "execution_count": 15,
   "metadata": {},
   "outputs": [],
   "source": [
    "left2 = left - sy.Matrix(mat3) * sy.Matrix([a * b for a, b in zip(dθ, dϕ)])"
   ]
  },
  {
   "cell_type": "code",
   "execution_count": 16,
   "metadata": {},
   "outputs": [
    {
     "name": "stdout",
     "output_type": "stream",
     "text": [
      "g*l0*(m0 + m1)*sin(θ0(t))\n",
      "g*l1*m1*sin(θ1(t))\n",
      "0\n",
      "0\n"
     ]
    }
   ],
   "source": [
    "for i in range(N * 2):\n",
    "    print(left2[i].simplify())"
   ]
  }
 ],
 "metadata": {
  "kernelspec": {
   "display_name": "Python 3",
   "language": "python",
   "name": "python3"
  },
  "language_info": {
   "codemirror_mode": {
    "name": "ipython",
    "version": 3
   },
   "file_extension": ".py",
   "mimetype": "text/x-python",
   "name": "python",
   "nbconvert_exporter": "python",
   "pygments_lexer": "ipython3",
   "version": "3.7.1"
  }
 },
 "nbformat": 4,
 "nbformat_minor": 2
}
