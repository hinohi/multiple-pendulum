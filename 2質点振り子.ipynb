{
 "cells": [
  {
   "cell_type": "code",
   "execution_count": 1,
   "metadata": {},
   "outputs": [],
   "source": [
    "import sympy as sy"
   ]
  },
  {
   "cell_type": "code",
   "execution_count": 2,
   "metadata": {},
   "outputs": [],
   "source": [
    "θ1, θ2 = sy.symbols('θ1 θ2', real=True)\n",
    "dθ1, dθ2 = sy.symbols('dθ1 dθ2', real=True)\n",
    "m, l, g = sy.symbols('m l g', positive=True)"
   ]
  },
  {
   "cell_type": "code",
   "execution_count": 3,
   "metadata": {},
   "outputs": [],
   "source": [
    "C = sy.Matrix([\n",
    "    [1, m * l * sy.cos(θ2 - θ1)],\n",
    "    [m * l * sy.cos(θ1 - θ2), m * l * l],\n",
    "])\n",
    "S = sy.Matrix([\n",
    "    [0, m * l * sy.sin(θ2 - θ1)],\n",
    "    [m * l * sy.sin(θ1 - θ2), 0],\n",
    "])\n",
    "v2 = sy.Matrix([\n",
    "    [dθ1 * dθ1],\n",
    "    [dθ2 * dθ2],\n",
    "])\n",
    "h = sy.Matrix([\n",
    "    [g * sy.sin(θ1)],\n",
    "    [m * g * l * sy.sin(θ2)],\n",
    "])"
   ]
  },
  {
   "cell_type": "code",
   "execution_count": 4,
   "metadata": {},
   "outputs": [],
   "source": [
    "f = C.inv() * (S * v2 + h)"
   ]
  },
  {
   "cell_type": "code",
   "execution_count": 5,
   "metadata": {},
   "outputs": [],
   "source": [
    "def my_simplify(expr):\n",
    "    if expr.func in [sy.Add, sy.Mul, sy.Pow]:\n",
    "        expr = expr.func(*(sy.factor(my_simplify(arg)) for arg in expr.args))\n",
    "    return sy.simplify(expr)"
   ]
  },
  {
   "cell_type": "code",
   "execution_count": 6,
   "metadata": {},
   "outputs": [],
   "source": [
    "f1 = my_simplify(f[0])\n",
    "f2 = my_simplify(f[1])"
   ]
  },
  {
   "cell_type": "code",
   "execution_count": 7,
   "metadata": {},
   "outputs": [
    {
     "data": {
      "text/plain": [
       "(m*(dθ1**2*m*sin(2*θ1 - 2*θ2) + 2*dθ2**2*l*m*sin(θ1 - θ2) + 2*g*m*sin(θ2)*cos(θ1 - θ2) - 2*g*sin(θ1))*sin(θ1 - θ2)*cos(θ1 - θ2) + (m*cos(θ1 - θ2)**2 - 1)*(-dθ1**2*m*sin(θ1 - θ2)**2 + dθ1**2*m*cos(θ1 - θ2)**2 + dθ2**2*l*m*cos(θ1 - θ2) - g*m*sin(θ2)*sin(θ1 - θ2) - g*cos(θ1)))/(m*cos(θ1 - θ2)**2 - 1)**2"
      ]
     },
     "execution_count": 7,
     "metadata": {},
     "output_type": "execute_result"
    }
   ],
   "source": [
    "my_simplify(sy.diff(f1, θ1))"
   ]
  },
  {
   "cell_type": "code",
   "execution_count": 8,
   "metadata": {},
   "outputs": [
    {
     "data": {
      "text/plain": [
       "m*((m*cos(θ1 - θ2)**2 - 1)*(dθ1**2*sin(θ1 - θ2)**2 - dθ1**2*cos(θ1 - θ2)**2 - dθ2**2*l*cos(θ1 - θ2) + g*sin(θ2)*sin(θ1 - θ2) + g*cos(θ2)*cos(θ1 - θ2)) - (dθ1**2*m*sin(2*θ1 - 2*θ2) + 2*dθ2**2*l*m*sin(θ1 - θ2) + 2*g*m*sin(θ2)*cos(θ1 - θ2) - 2*g*sin(θ1))*sin(θ1 - θ2)*cos(θ1 - θ2))/(m*cos(θ1 - θ2)**2 - 1)**2"
      ]
     },
     "execution_count": 8,
     "metadata": {},
     "output_type": "execute_result"
    }
   ],
   "source": [
    "my_simplify(sy.diff(f1, θ2))"
   ]
  },
  {
   "cell_type": "code",
   "execution_count": 9,
   "metadata": {},
   "outputs": [
    {
     "data": {
      "text/plain": [
       "2*dθ1*m*sin(2*θ1 - 2*θ2)/(m*cos(2*θ1 - 2*θ2) + m - 2)"
      ]
     },
     "execution_count": 9,
     "metadata": {},
     "output_type": "execute_result"
    }
   ],
   "source": [
    "my_simplify(sy.diff(f1, dθ1))"
   ]
  },
  {
   "cell_type": "code",
   "execution_count": 10,
   "metadata": {},
   "outputs": [
    {
     "data": {
      "text/plain": [
       "2*dθ2*l*m*sin(θ1 - θ2)/(m*cos(θ1 - θ2)**2 - 1)"
      ]
     },
     "execution_count": 10,
     "metadata": {},
     "output_type": "execute_result"
    }
   ],
   "source": [
    "my_simplify(sy.diff(f1, dθ2))"
   ]
  },
  {
   "cell_type": "code",
   "execution_count": 11,
   "metadata": {},
   "outputs": [
    {
     "data": {
      "text/plain": [
       "(-m*(2*dθ1**2*sin(θ1 - θ2) + dθ2**2*l*m*sin(2*θ1 - 2*θ2) + g*sin(θ2) - g*sin(2*θ1 - θ2))*sin(θ1 - θ2)*cos(θ1 - θ2) + (m*cos(θ1 - θ2)**2 - 1)*(-dθ1**2*cos(θ1 - θ2) - dθ2**2*l*m*cos(2*θ1 - 2*θ2) + g*cos(2*θ1 - θ2)))/(l*(m*cos(θ1 - θ2)**2 - 1)**2)"
      ]
     },
     "execution_count": 11,
     "metadata": {},
     "output_type": "execute_result"
    }
   ],
   "source": [
    "my_simplify(sy.diff(f2, θ1))"
   ]
  },
  {
   "cell_type": "code",
   "execution_count": 12,
   "metadata": {},
   "outputs": [
    {
     "data": {
      "text/plain": [
       "(m*(2*dθ1**2*sin(θ1 - θ2) + dθ2**2*l*m*sin(2*θ1 - 2*θ2) + g*sin(θ2) - g*sin(2*θ1 - θ2))*sin(θ1 - θ2)*cos(θ1 - θ2) + (m*cos(θ1 - θ2)**2 - 1)*(2*dθ1**2*cos(θ1 - θ2) + 2*dθ2**2*l*m*cos(2*θ1 - 2*θ2) - g*cos(θ2) - g*cos(2*θ1 - θ2))/2)/(l*(m*cos(θ1 - θ2)**2 - 1)**2)"
      ]
     },
     "execution_count": 12,
     "metadata": {},
     "output_type": "execute_result"
    }
   ],
   "source": [
    "my_simplify(sy.diff(f2, θ2))"
   ]
  },
  {
   "cell_type": "code",
   "execution_count": 13,
   "metadata": {},
   "outputs": [
    {
     "data": {
      "text/plain": [
       "-2*dθ1*sin(θ1 - θ2)/(l*(m*cos(θ1 - θ2)**2 - 1))"
      ]
     },
     "execution_count": 13,
     "metadata": {},
     "output_type": "execute_result"
    }
   ],
   "source": [
    "my_simplify(sy.diff(f2, dθ1))"
   ]
  },
  {
   "cell_type": "code",
   "execution_count": 14,
   "metadata": {},
   "outputs": [
    {
     "data": {
      "text/plain": [
       "-dθ2*m*sin(2*θ1 - 2*θ2)/(m*cos(θ1 - θ2)**2 - 1)"
      ]
     },
     "execution_count": 14,
     "metadata": {},
     "output_type": "execute_result"
    }
   ],
   "source": [
    "my_simplify(sy.diff(f2, dθ2))"
   ]
  }
 ],
 "metadata": {
  "kernelspec": {
   "display_name": "Python 3",
   "language": "python",
   "name": "python3"
  },
  "language_info": {
   "codemirror_mode": {
    "name": "ipython",
    "version": 3
   },
   "file_extension": ".py",
   "mimetype": "text/x-python",
   "name": "python",
   "nbconvert_exporter": "python",
   "pygments_lexer": "ipython3",
   "version": "3.7.1"
  }
 },
 "nbformat": 4,
 "nbformat_minor": 2
}
